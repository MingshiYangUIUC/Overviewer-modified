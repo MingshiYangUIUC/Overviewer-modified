{
 "cells": [
  {
   "cell_type": "code",
   "execution_count": 12,
   "metadata": {},
   "outputs": [],
   "source": [
    "import os\n",
    "from PIL import Image\n",
    "import time\n",
    "import numpy as np\n",
    "from matplotlib import pyplot as plt\n",
    "from scipy.stats import poisson\n",
    "from scipy import stats"
   ]
  },
  {
   "cell_type": "markdown",
   "metadata": {},
   "source": [
    "Re-crop old images"
   ]
  },
  {
   "cell_type": "code",
   "execution_count": 7,
   "metadata": {},
   "outputs": [
    {
     "name": "stdout",
     "output_type": "stream",
     "text": [
      "# 130 of 130, time: 301.19 of 301.19        \r"
     ]
    }
   ],
   "source": [
    "ss,xx=31,161\n",
    "t0 = time.time()\n",
    "for i in range(ss,xx):\n",
    "    L = 6144\n",
    "    ti = time.time()\n",
    "    imagebig = Image.open(f'saved/hdimage{i}.png')\n",
    "    a,b,c,d = imagebig.getbbox()\n",
    "    imagesm = imagebig.crop((a,b,c,d))\n",
    "    xw = abs(c-a)\n",
    "    yw = abs(d-b)\n",
    "    xb = int(L/2-xw/2)\n",
    "    yb = int(L/2-yw/2)\n",
    "    imagebig = Image.new('RGBA', (6144,6144))\n",
    "    imagebig.paste(imagesm,(xb,yb))\n",
    "    imagebig.save(f'saved/hdimage{i}.png',\"PNG\")\n",
    "    t1 = time.time()-t0\n",
    "    est = round((xx-ss)*t1/(i+1-ss),2)\n",
    "    print(f'# {i+1-ss} of {xx-ss}, time: {round(t1,2)} of {round((xx-ss)*t1/(i+1-ss),2)}        ',end='\\r')"
   ]
  },
  {
   "cell_type": "markdown",
   "metadata": {},
   "source": [
    "Analyze worldsummaries"
   ]
  },
  {
   "cell_type": "code",
   "execution_count": 34,
   "metadata": {},
   "outputs": [
    {
     "name": "stdout",
     "output_type": "stream",
     "text": [
      "0.165\n"
     ]
    }
   ],
   "source": [
    "#d = open('saved/worldsummary31.txt','r').readlines()\n",
    "#BIOMES,EB,GB,SP,CS,Ustructure,ore_types,am,dm,gd,em,bn,cp,ir,cl,lp,rs,stone,soil,veggies,water,ores,sandy,snow = d[:23]\n",
    "SPL,CSL,amL,dmL,gdL,emL,clL,irL,rsL,lpL,cpL,bnL,ot,winter= [],[],[],[],[],[],[],[],[],[],[],[],[],[]\n",
    "BN = []\n",
    "ustr = []\n",
    "biom = []\n",
    "for i in range(31,231):\n",
    "    BIOMES,EB,GB,SP,CS,Ustructure,ore_types,am,dm,gd,em,bn,cp,ir,cl,lp,rs,stone,soil,veggies,water,ores,sandy,snow = open(f'saved/sample/worldsummary{i}.txt','r').readlines()\n",
    "    SPL.append(float(SP))\n",
    "    CSL.append(float(CS))\n",
    "    amL.append(float(am))\n",
    "    dmL.append(float(dm))\n",
    "    if float(gd) < 0.09: # only got normal case.\n",
    "        gdL.append(float(gd))\n",
    "    if float(em) > 0:\n",
    "        emL.append(float(em))\n",
    "    if float(bn) > 0:\n",
    "        bnL.append(float(bn))\n",
    "    clL.append(float(cl))\n",
    "    irL.append(float(ir))\n",
    "    rsL.append(float(rs))\n",
    "    lpL.append(float(lp))\n",
    "    cpL.append(float(cp))\n",
    "    ustr += eval(Ustructure)\n",
    "    biom += eval(BIOMES)\n",
    "    BN.append(len(eval(BIOMES)))\n",
    "    ot.append(len(eval(ore_types)))\n",
    "    if float(snow) >= 0.3:\n",
    "        winter.append(float(snow))\n",
    "\n",
    "print(len(winter)/200)"
   ]
  },
  {
   "cell_type": "code",
   "execution_count": 7,
   "metadata": {},
   "outputs": [
    {
     "data": {
      "text/plain": [
       "0.015"
      ]
     },
     "execution_count": 7,
     "metadata": {},
     "output_type": "execute_result"
    }
   ],
   "source": [
    "(np.array(SPL)>=35).sum()/200"
   ]
  },
  {
   "cell_type": "markdown",
   "metadata": {},
   "source": [
    "SP,CS,am,em,cl,cp are log normal\n",
    "\n",
    "gd, rs, lp, ir, dm is gumbel_l"
   ]
  },
  {
   "cell_type": "code",
   "execution_count": 35,
   "metadata": {},
   "outputs": [
    {
     "name": "stdout",
     "output_type": "stream",
     "text": [
      "0.8489826091789467 0.9709188878924522 1.0440210891255148 1.1814082000429735\n"
     ]
    },
    {
     "data": {
      "image/png": "[encoded data removed]",
      "text/plain": [
       "<Figure size 432x288 with 1 Axes>"
      ]
     },
     "metadata": {
      "needs_background": "light"
     },
     "output_type": "display_data"
    }
   ],
   "source": [
    "\n",
    "\n",
    "D = sorted(winter)\n",
    "#print(len(D))\n",
    "#plt.yscale('log')\n",
    "shape, loc, scale = stats.lognorm.fit(D, loc=0)\n",
    "#print(shape,loc,scale)\n",
    "pdf_lognorm = stats.lognorm.pdf(D, shape, loc, scale)\n",
    "print(stats.lognorm.ppf(0.75,shape,loc,scale),stats.lognorm.ppf(0.9,shape,loc,scale),stats.lognorm.ppf(0.95,shape,loc,scale),stats.lognorm.ppf(0.99,shape,loc,scale))\n",
    "plt.hist(D,density=True)\n",
    "#plt.plot(D, pdf_lognorm)\n",
    "\n",
    "plt.savefig('see.png')\n",
    "plt.show()\n"
   ]
  },
  {
   "cell_type": "code",
   "execution_count": 21,
   "metadata": {},
   "outputs": [
    {
     "data": {
      "image/png": "[encoded data removed]",
      "text/plain": [
       "<Figure size 432x288 with 1 Axes>"
      ]
     },
     "metadata": {
      "needs_background": "light"
     },
     "output_type": "display_data"
    }
   ],
   "source": [
    "D = sorted(bnL)\n",
    "plt.hist(ot,density=True)\n",
    "plt.show()"
   ]
  },
  {
   "cell_type": "code",
   "execution_count": 9,
   "metadata": {},
   "outputs": [
    {
     "name": "stdout",
     "output_type": "stream",
     "text": [
      "20.798376047090418 26.274671437360304 30.21856580532989 39.28133223049182\n",
      "24.87356649807305 30.67987811454462 34.78232371537665 44.0109458092009\n",
      "0.04857621968925925 0.057823652996992825 0.06392426595204993 0.07664649073272997\n",
      "0.0013639611916549308 0.0029665996463801364 0.004724372701815549 0.01131236781573449\n",
      "0.26593068907135825 0.29537521422845586 0.3145483112705915 0.3539644940800656\n",
      "0.2687231518330518 0.31846280807652494 0.36423550792806686 0.503436168306424\n",
      "9.258457832616084 10.80796755139652 11.801295494511187 13.808796180699936\n"
     ]
    }
   ],
   "source": [
    "def get_lognorm(dl):\n",
    "    for d in dl:\n",
    "        D = sorted(d)\n",
    "        shape, loc, scale = stats.lognorm.fit(D, loc=0)\n",
    "        print(stats.lognorm.ppf(0.75,shape,loc,scale),stats.lognorm.ppf(0.9,shape,loc,scale),stats.lognorm.ppf(0.95,shape,loc,scale),stats.lognorm.ppf(0.99,shape,loc,scale))\n",
    "    pass\n",
    "\n",
    "get_lognorm([SPL,CSL,amL,emL,clL,cpL,BN])"
   ]
  },
  {
   "cell_type": "markdown",
   "metadata": {},
   "source": [
    "SP,CS,am,em,cl,cp are log normal\n",
    "\n",
    "gd, rs, lp, ir, dm is gumbel_l"
   ]
  },
  {
   "cell_type": "code",
   "execution_count": 20,
   "metadata": {},
   "outputs": [
    {
     "name": "stdout",
     "output_type": "stream",
     "text": [
      "0.839285635507627 0.9396179404331207 0.9916541407940193 1.0766800275614468\n"
     ]
    },
    {
     "data": {
      "image/png": "[encoded data removed]",
      "text/plain": [
       "<Figure size 432x288 with 1 Axes>"
      ]
     },
     "metadata": {
      "needs_background": "light"
     },
     "output_type": "display_data"
    }
   ],
   "source": [
    "D = sorted(winter)\n",
    "\n",
    "#plt.yscale('log')\n",
    "loc, scale = stats.gumbel_l.fit(D, loc=0)\n",
    "pdf = stats.gumbel_l.pdf(D, loc, scale)\n",
    "#print(stats.gumbel_l.ppf(0.8,loc,scale))\n",
    "print(stats.gumbel_l.ppf(0.75,loc,scale),stats.gumbel_l.ppf(0.9,loc,scale),stats.gumbel_l.ppf(0.95,loc,scale),stats.gumbel_l.ppf(0.99,loc,scale))\n",
    "plt.hist(D,density=True)\n",
    "plt.plot(D, pdf)\n",
    "plt.show()"
   ]
  },
  {
   "cell_type": "markdown",
   "metadata": {},
   "source": [
    "SP,CS,am,em,cl,cp are log normal\n",
    "\n",
    "gd, rs, lp, ir, dm is gumbel_l"
   ]
  },
  {
   "cell_type": "code",
   "execution_count": 10,
   "metadata": {},
   "outputs": [
    {
     "name": "stdout",
     "output_type": "stream",
     "text": [
      "0.043233439309139574 0.0457819696770163 0.04710373575173319 0.0492634693952825\n",
      "0.07288259617026688 0.07699867624926922 0.07913343402097117 0.08262157633946775\n",
      "0.10136153450402448 0.10704497540014286 0.10999262690111615 0.11480901781769662\n",
      "0.22403459181578622 0.23550190876256766 0.24144930130665168 0.25116719618574657\n",
      "0.06767660632708769 0.07107235386120928 0.07283351941194385 0.07571122112069459\n"
     ]
    }
   ],
   "source": [
    "def get_gumbell(dl):\n",
    "    for d in dl:\n",
    "        D = sorted(d)\n",
    "        loc, scale = stats.gumbel_l.fit(D, loc=0)\n",
    "        print(stats.gumbel_l.ppf(0.75,loc,scale),stats.gumbel_l.ppf(0.9,loc,scale),stats.gumbel_l.ppf(0.95,loc,scale),stats.gumbel_l.ppf(0.99,loc,scale))\n",
    "    pass\n",
    "\n",
    "get_gumbell([dmL,gdL,rsL,irL,lpL])"
   ]
  },
  {
   "cell_type": "code",
   "execution_count": 17,
   "metadata": {},
   "outputs": [
    {
     "name": "stdout",
     "output_type": "stream",
     "text": [
      "['mineshaft', 'ruined_portal', 'village', 'ocean_ruin', 'shipwreck', 'buried_treasure', 'fossil', 'igloo', 'pillager_outpost', 'desert_pyramid', 'swamp_hut', 'jungle_pyramid', 'mansion'] [0.89  0.26  0.25  0.235 0.2   0.135 0.115 0.025 0.01  0.01  0.005 0.005\n",
      " 0.005]\n",
      "mineshaft ruined_portal village ocean_ruin shipwreck buried_treasure fossil igloo pillager_outpost desert_pyramid swamp_hut jungle_pyramid mansion "
     ]
    },
    {
     "data": {
      "image/png": "[encoded data removed]",
      "text/plain": [
       "<Figure size 1440x360 with 1 Axes>"
      ]
     },
     "metadata": {
      "needs_background": "light"
     },
     "output_type": "display_data"
    }
   ],
   "source": [
    "import pandas as pd\n",
    "from collections import Counter\n",
    "a = ustr\n",
    "key = list(pd.Series(a).value_counts().keys())\n",
    "key\n",
    "values = pd.Series(a).value_counts().values/200\n",
    "\n",
    "plt.figure(figsize=(20,5))\n",
    "plt.bar(key,values)\n",
    "print(key,values)\n",
    "for k in key:\n",
    "    print(k,end=' ')"
   ]
  },
  {
   "cell_type": "code",
   "execution_count": 18,
   "metadata": {},
   "outputs": [
    {
     "name": "stdout",
     "output_type": "stream",
     "text": [
      "['river', 'forest', 'plains', 'dripstone_caves', 'beach', 'lush_caves', 'taiga', 'stony_shore', 'ocean', 'savanna', 'cold_ocean', 'birch_forest', 'old_growth_birch_forest', 'lukewarm_ocean', 'frozen_river', 'snowy_plains', 'meadow', 'snowy_taiga', 'frozen_ocean', 'snowy_beach', 'jungle', 'deep_cold_ocean', 'desert', 'sparse_jungle', 'dark_forest', 'savanna_plateau', 'deep_ocean', 'old_growth_pine_taiga', 'swamp', 'old_growth_spruce_taiga', 'windswept_hills', 'warm_ocean', 'badlands', 'flower_forest', 'grove', 'deep_lukewarm_ocean', 'sunflower_plains', 'deep_frozen_ocean', 'snowy_slopes', 'bamboo_jungle', 'windswept_savanna', 'eroded_badlands', 'wooded_badlands', 'windswept_forest', 'windswept_gravelly_hills', 'stony_peaks', 'ice_spikes', 'frozen_peaks', 'jagged_peaks'] [0.865 0.675 0.6   0.51  0.46  0.435 0.27  0.25  0.23  0.22  0.21  0.21\n",
      " 0.205 0.185 0.17  0.17  0.16  0.13  0.125 0.12  0.115 0.09  0.09  0.09\n",
      " 0.09  0.08  0.075 0.075 0.07  0.07  0.065 0.065 0.06  0.06  0.055 0.055\n",
      " 0.055 0.05  0.05  0.04  0.035 0.035 0.035 0.03  0.025 0.025 0.025 0.02\n",
      " 0.015]\n",
      "river forest plains dripstone_caves beach lush_caves taiga stony_shore ocean savanna cold_ocean birch_forest old_growth_birch_forest lukewarm_ocean frozen_river snowy_plains meadow snowy_taiga frozen_ocean snowy_beach jungle deep_cold_ocean desert sparse_jungle dark_forest savanna_plateau deep_ocean old_growth_pine_taiga swamp old_growth_spruce_taiga windswept_hills warm_ocean badlands flower_forest grove deep_lukewarm_ocean sunflower_plains deep_frozen_ocean snowy_slopes bamboo_jungle windswept_savanna eroded_badlands wooded_badlands windswept_forest windswept_gravelly_hills stony_peaks ice_spikes frozen_peaks jagged_peaks "
     ]
    },
    {
     "data": {
      "image/png": "[encoded data removed]",
      "text/plain": [
       "<Figure size 1440x360 with 1 Axes>"
      ]
     },
     "metadata": {
      "needs_background": "light"
     },
     "output_type": "display_data"
    }
   ],
   "source": [
    "import pandas as pd\n",
    "from collections import Counter\n",
    "a = biom\n",
    "key = list(pd.Series(a).value_counts().keys())\n",
    "key\n",
    "values = pd.Series(a).value_counts().values/200\n",
    "\n",
    "plt.figure(figsize=(20,5))\n",
    "plt.bar(key,values)\n",
    "print(key,values)\n",
    "\n",
    "for k in key:\n",
    "    print(k,end=' ')"
   ]
  },
  {
   "cell_type": "code",
   "execution_count": null,
   "metadata": {},
   "outputs": [],
   "source": []
  },
  {
   "cell_type": "markdown",
   "metadata": {},
   "source": [
    "rarity reader"
   ]
  },
  {
   "cell_type": "code",
   "execution_count": 13,
   "metadata": {},
   "outputs": [],
   "source": [
    "r_sp = np.float32(np.asarray('20.798376047090418 26.274671437360304 30.21856580532989 39.28133223049182'.split()))\n",
    "r_cs = np.float32(np.asarray('24.87356649807305 30.67987811454462 34.78232371537665 44.0109458092009'.split()))\n",
    "r_am = np.float32(np.asarray('0.04857621968925925 0.057823652996992825 0.06392426595204993 0.07664649073272997'.split()))\n",
    "r_em = np.float32(np.asarray('0.0013639611916549308 0.0029665996463801364 0.004724372701815549 0.01131236781573449'.split()))\n",
    "r_cl = np.float32(np.asarray('0.26593068907135825 0.29537521422845586 0.3145483112705915 0.3539644940800656'.split()))\n",
    "r_cp = np.float32(np.asarray('0.2687231518330518 0.31846280807652494 0.36423550792806686 0.503436168306424'.split()))\n",
    "\n",
    "r_dm = np.float32(np.asarray('0.043233439309139574 0.0457819696770163 0.04710373575173319 0.0492634693952825'.split()))\n",
    "r_gd = np.float32(np.asarray('0.07288259617026688 0.07699867624926922 0.07913343402097117 0.08262157633946775'.split()))\n",
    "r_rs = np.float32(np.asarray('0.10136153450402448 0.10704497540014286 0.10999262690111615 0.11480901781769662'.split()))\n",
    "r_ir = np.float32(np.asarray('0.22403459181578622 0.23550190876256766 0.24144930130665168 0.25116719618574657'.split()))\n",
    "r_lp = np.float32(np.asarray('0.06767660632708769 0.07107235386120928 0.07283351941194385 0.07571122112069459'.split()))\n",
    "\n",
    "structures = 'mineshaft ruined_portal village ocean_ruin shipwreck buried_treasure fossil igloo pillager_outpost desert_pyramid swamp_hut jungle_pyramid mansion'.split()\n",
    "str_p =      '0.89      0.26          0.25    0.235      0.2       0.135           0.115  0.025 0.01             0.01           0.005     0.005          0.005'.split()\n",
    "\n",
    "biomes = 'river forest plains dripstone_caves beach lush_caves taiga stony_shore ocean savanna cold_ocean birch_forest old_growth_birch_forest lukewarm_ocean frozen_river snowy_plains meadow snowy_taiga frozen_ocean snowy_beach jungle deep_cold_ocean desert sparse_jungle dark_forest savanna_plateau deep_ocean old_growth_pine_taiga swamp old_growth_spruce_taiga windswept_hills warm_ocean badlands flower_forest grove deep_lukewarm_ocean sunflower_plains deep_frozen_ocean snowy_slopes bamboo_jungle windswept_savanna eroded_badlands wooded_badlands windswept_forest windswept_gravelly_hills stony_peaks ice_spikes frozen_peaks jagged_peaks'.split()\n",
    "bio_p = '0.865 0.675 0.6   0.51  0.46  0.435 0.27  0.25  0.23  0.22  0.21  0.21 0.205 0.185 0.17  0.17  0.16  0.13  0.125 0.12  0.115 0.09  0.09  0.09 0.09  0.08  0.075 0.075 0.07  0.07  0.065 0.065 0.06  0.06  0.055 0.055 0.055 0.05  0.05  0.04  0.035 0.035 0.035 0.03  0.025 0.025 0.025 0.02 0.015'.split()\n",
    "\n",
    "d_stru = {}\n",
    "for i in range(len(structures)):\n",
    "    d_stru[structures[i]] = str_p[i]\n",
    "\n",
    "d_bio = {}\n",
    "for i in range(len(biomes)):\n",
    "    d_bio[biomes[i]] = bio_p[i]\n",
    "\n"
   ]
  },
  {
   "cell_type": "code",
   "execution_count": 14,
   "metadata": {},
   "outputs": [
    {
     "data": {
      "text/plain": [
       "[0, 0, 0, 0]"
      ]
     },
     "execution_count": 14,
     "metadata": {},
     "output_type": "execute_result"
    }
   ],
   "source": [
    "r = [0,0,0,0]\n",
    "r"
   ]
  },
  {
   "cell_type": "code",
   "execution_count": 15,
   "metadata": {},
   "outputs": [
    {
     "data": {
      "text/plain": [
       "[0, 0, 2, 0]"
      ]
     },
     "execution_count": 15,
     "metadata": {},
     "output_type": "execute_result"
    }
   ],
   "source": [
    "data,ref,Ri = 28, r_sp, 2\n",
    "for p in ref:\n",
    "    if p < data:\n",
    "        r[Ri] += 1\n",
    "r"
   ]
  },
  {
   "cell_type": "code",
   "execution_count": 26,
   "metadata": {},
   "outputs": [],
   "source": [
    "BIOMES,EB,GB,SP,CS,Ustructure,ore_types,am,dm,gd,em,bn,cp,ir,cl,lp,rs,stone,soil,veggies,water,ores,sandy,snow = open(f'saved/31-230/worldsummary40.txt','r').readlines()"
   ]
  },
  {
   "cell_type": "code",
   "execution_count": 34,
   "metadata": {},
   "outputs": [
    {
     "name": "stdout",
     "output_type": "stream",
     "text": [
      "[[('meadow', 1)], [], 0, 0, 0, 0, 0, 0, 0, 0, 0, 0, 0, 0]\n",
      "[[('meadow', 1)], [], 0, 0, 0, 0, 0, 0, 0, 0, 0, 0, 0, 0]\n",
      "[[('meadow', 1)], [], 0, 0, 0, 0, 0, 0, 0, 3, 0, 0, 0, 0]\n"
     ]
    }
   ],
   "source": [
    "summary = open(f'saved/31-230/worldsummary40.txt','r').readlines()\n",
    "\n",
    "r_sp = np.float32(np.asarray('20.798376047090418 26.274671437360304 30.21856580532989 39.28133223049182'.split()))\n",
    "r_cs = np.float32(np.asarray('24.87356649807305 30.67987811454462 34.78232371537665 44.0109458092009'.split()))\n",
    "r_am = np.float32(np.asarray('0.04857621968925925 0.057823652996992825 0.06392426595204993 0.07664649073272997'.split()))\n",
    "r_em = np.float32(np.asarray('0.0013639611916549308 0.0029665996463801364 0.004724372701815549 0.01131236781573449'.split()))\n",
    "r_cl = np.float32(np.asarray('0.26593068907135825 0.29537521422845586 0.3145483112705915 0.3539644940800656'.split()))\n",
    "r_cp = np.float32(np.asarray('0.2687231518330518 0.31846280807652494 0.36423550792806686 0.503436168306424'.split()))\n",
    "r_bn = np.float32(np.asarray('0.0019807927869329393 0.0028622029291350314 0.0035210829777147503 0.005099698081662132'.split()))\n",
    "r_dm = np.float32(np.asarray('0.043233439309139574 0.0457819696770163 0.04710373575173319 0.0492634693952825'.split()))\n",
    "r_gd = np.float32(np.asarray('0.07288259617026688 0.07699867624926922 0.07913343402097117 0.08262157633946775'.split()))\n",
    "r_rs = np.float32(np.asarray('0.10136153450402448 0.10704497540014286 0.10999262690111615 0.11480901781769662'.split()))\n",
    "r_ir = np.float32(np.asarray('0.22403459181578622 0.23550190876256766 0.24144930130665168 0.25116719618574657'.split()))\n",
    "r_lp = np.float32(np.asarray('0.06767660632708769 0.07107235386120928 0.07283351941194385 0.07571122112069459'.split()))\n",
    "\n",
    "R = [0 for i in range(14)]\n",
    "Index = ['Biome','Structures','Spawner','Chest','r_am','r_dm','r_gd','r_em','r_bn','r_cp','r_ir','r_cl','r_lp','r_rs']\n",
    "structures                  = 'mineshaft ruined_portal village ocean_ruin shipwreck buried_treasure fossil igloo pillager_outpost desert_pyramid swamp_hut jungle_pyramid mansion'.split()\n",
    "str_p = np.float32(np.asarray('0.89      0.26          0.25    0.235      0.2       0.135           0.115  0.025 0.01             0.01           0.005     0.005          0.005'.split()))\n",
    "\n",
    "biomes = 'river forest plains dripstone_caves beach lush_caves taiga stony_shore ocean savanna cold_ocean birch_forest old_growth_birch_forest lukewarm_ocean frozen_river snowy_plains meadow snowy_taiga frozen_ocean snowy_beach jungle deep_cold_ocean desert sparse_jungle dark_forest savanna_plateau deep_ocean old_growth_pine_taiga swamp old_growth_spruce_taiga windswept_hills warm_ocean badlands flower_forest grove deep_lukewarm_ocean sunflower_plains deep_frozen_ocean snowy_slopes bamboo_jungle windswept_savanna eroded_badlands wooded_badlands windswept_forest windswept_gravelly_hills stony_peaks ice_spikes frozen_peaks jagged_peaks'.split()\n",
    "bio_p = np.float32(np.asarray('0.865 0.675 0.6   0.51  0.46  0.435 0.27  0.25  0.23  0.22  0.21  0.21 0.205 0.185 0.17  0.17  0.16  0.13  0.125 0.12  0.115 0.09  0.09  0.09 0.09  0.08  0.075 0.075 0.07  0.07  0.065 0.065 0.06  0.06  0.055 0.055 0.055 0.05  0.05  0.04  0.035 0.035 0.035 0.03  0.025 0.025 0.025 0.02 0.015'.split()))\n",
    "\n",
    "d_stru = {}\n",
    "for i in range(len(structures)):\n",
    "    d_stru[structures[i]] = str_p[i]\n",
    "\n",
    "d_bio = {}\n",
    "for i in range(len(biomes)):\n",
    "    d_bio[biomes[i]] = bio_p[i]\n",
    "\n",
    "R[0] = []\n",
    "R[1] = []\n",
    "for b in eval(summary[0]): #biomes\n",
    "    p = d_bio[b]\n",
    "    if 0.1 < p <= 0.25:\n",
    "        R[0].append((b,1))\n",
    "    elif 0.05 < p <= 0.1:\n",
    "        R[0].append((b,2))\n",
    "    elif 0.01 < p <= 0.05:\n",
    "        R[0].append((b,3))\n",
    "    elif p <= 0.01:\n",
    "        R[0].append((b,4))\n",
    "    else:pass\n",
    "for s in eval(summary[5]): #structures\n",
    "    p = d_stru[s]\n",
    "    if 0.1 < p <= 0.25:\n",
    "        R[1].append((s,1))\n",
    "    elif 0.05 < p <= 0.1:\n",
    "        R[1].append((s,2))\n",
    "    elif 0.01 < p <= 0.05:\n",
    "        R[1].append((s,3))\n",
    "    elif p <= 0.01:\n",
    "        R[1].append((s,4))\n",
    "    else:pass\n",
    "print(R)\n",
    "data,ref,Ri = eval(summary[3]), r_sp, 2\n",
    "for p in ref:\n",
    "    if p < data:\n",
    "        R[Ri] += 1\n",
    "data,ref,Ri = eval(summary[4]), r_cs, 3\n",
    "for p in ref:\n",
    "    if p < data:\n",
    "        R[Ri] += 1\n",
    "print(R)\n",
    "p_ores = [r_am,r_dm,r_gd,r_em,r_bn,r_cp,r_ir,r_cl,r_lp,r_rs]\n",
    "for i in range(len(p_ores)):\n",
    "    data,ref,Ri = eval(summary[i+7]), p_ores[i], i+4\n",
    "    for p in ref:\n",
    "        if p < data:\n",
    "            R[Ri] += 1\n",
    "\n",
    "print(R)"
   ]
  },
  {
   "cell_type": "code",
   "execution_count": 37,
   "metadata": {},
   "outputs": [
    {
     "data": {
      "text/plain": [
       "[[1, 2, 3, 4], 5, 6]"
      ]
     },
     "execution_count": 37,
     "metadata": {},
     "output_type": "execute_result"
    }
   ],
   "source": [
    "l = ([1,2,3,4],5,6)\n",
    "\n",
    "list(l)"
   ]
  },
  {
   "cell_type": "code",
   "execution_count": 38,
   "metadata": {},
   "outputs": [],
   "source": [
    "area = eval(\"[[['area', '112896m²'], (255, 255, 255)], [['land coverage', '50.87%'], (255, 255, 255)], [['water coverage', '49.13%'], (255, 255, 255)], [['soil coverage', '23.33%'], (255, 255, 255)]]\")"
   ]
  },
  {
   "cell_type": "code",
   "execution_count": 39,
   "metadata": {},
   "outputs": [
    {
     "data": {
      "text/plain": [
       "[[['area', '112896m²'], (255, 255, 255)],\n",
       " [['land coverage', '50.87%'], (255, 255, 255)],\n",
       " [['water coverage', '49.13%'], (255, 255, 255)],\n",
       " [['soil coverage', '23.33%'], (255, 255, 255)]]"
      ]
     },
     "execution_count": 39,
     "metadata": {},
     "output_type": "execute_result"
    }
   ],
   "source": [
    "area"
   ]
  },
  {
   "cell_type": "code",
   "execution_count": 41,
   "metadata": {},
   "outputs": [],
   "source": [
    "f = open('text.txt','w', encoding='utf-8')\n",
    "f.write(str(area))\n",
    "f.close()"
   ]
  },
  {
   "cell_type": "code",
   "execution_count": 42,
   "metadata": {},
   "outputs": [],
   "source": [
    "test_texts = [[['area', '112896m²'], (255, 255, 255)], [['land', '50.87%'], (255, 255, 255)], [['water', '49.13%'], (255, 255, 255)], [['soil', '23.33%'], (255, 255, 255)]],\\\n",
    "                 [['lukewarm_ocean', (51, 255, 51)], ['swamp', (0, 128, 255)], ['windswept_savanna', (255, 51, 255)], ['warm_ocean', (0, 128, 255)], ['savanna', (51, 255, 51)], ['forest', (255, 255, 255)], ['beach', (255, 255, 255)], ['river', (255, 255, 255)]],\\\n",
    "                 [[['Amethyst', '6.05%'], (0, 128, 255)], [['Diamond', '3.97%'], (255, 255, 255)], [['Gold', '7.03%'], (255, 255, 255)], [['Emerald', '0.0%'], (255, 255, 255)], [['Bone', '0.0%'], (255, 255, 255)], [['Copper', '21.33%'], (255, 255, 255)], [['Iron', '22.61%'], (51, 255, 51)], [['Coal', '22.76%'], (255, 255, 255)], [['Lapis', '6.53%'], (255, 255, 255)], [['Redstone', '9.72%'], (255, 255, 255)]],\\\n",
    "                 [['ocean_ruin', (51, 255, 51)], ['mineshaft', (255, 255, 255)], ['more metal', (51, 255, 51)], ['more gem', (51, 255, 51)], ['multiclimate', (51, 255, 51)], ['uncommon biomes', (255, 128, 0)], ['corals', (0, 128, 255)]]"
   ]
  },
  {
   "cell_type": "code",
   "execution_count": 44,
   "metadata": {},
   "outputs": [
    {
     "data": {
      "text/plain": [
       "[[['area', '112896m²'], (255, 255, 255)],\n",
       " [['land', '50.87%'], (255, 255, 255)],\n",
       " [['water', '49.13%'], (255, 255, 255)],\n",
       " [['soil', '23.33%'], (255, 255, 255)]]"
      ]
     },
     "execution_count": 44,
     "metadata": {},
     "output_type": "execute_result"
    }
   ],
   "source": []
  },
  {
   "cell_type": "code",
   "execution_count": null,
   "metadata": {},
   "outputs": [],
   "source": []
  }
 ],
 "metadata": {
  "interpreter": {
   "hash": "91a3b4d85cd478b520c821b01eda60ac090222de6749d452a8e32f7d9a9f2f31"
  },
  "kernelspec": {
   "display_name": "Python 3.7.1 64-bit ('base': conda)",
   "language": "python",
   "name": "python3"
  },
  "language_info": {
   "codemirror_mode": {
    "name": "ipython",
    "version": 3
   },
   "file_extension": ".py",
   "mimetype": "text/x-python",
   "name": "python",
   "nbconvert_exporter": "python",
   "pygments_lexer": "ipython3",
   "version": "3.7.1"
  },
  "orig_nbformat": 4
 },
 "nbformat": 4,
 "nbformat_minor": 2
}
